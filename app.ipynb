{
  "metadata": {
    "kernelspec": {
      "name": "python",
      "display_name": "Python (Pyodide)",
      "language": "python"
    },
    "language_info": {
      "codemirror_mode": {
        "name": "python",
        "version": 3
      },
      "file_extension": ".py",
      "mimetype": "text/x-python",
      "name": "python",
      "nbconvert_exporter": "python",
      "pygments_lexer": "ipython3",
      "version": "3.8"
    }
  },
  "nbformat_minor": 5,
  "nbformat": 4,
  "cells": [
    {
      "id": "3fe1b4c1-4777-48bc-91d7-26e13638b90a",
      "cell_type": "code",
      "source": "from flask import Flask, render_template, jsonify\nfrom flask_cors import CORS\nimport psycopg2\nfrom config import DB_CONFIG\n\napp = Flask(_name_)\nCORS(app)\n\ndef get_db_connection():\n    conn = psycopg2.connect(**DB_CONFIG)\n    return conn\n\n@app.route('/')\ndef index():\n    return render_template('index.html')\n\n@app.route('/api/inventory')\ndef inventory_data():\n    conn = get_db_connection()\n    cur = conn.cursor()\n    cur.execute('SELECT item_name, quantity, status FROM inventory;')\n    rows = cur.fetchall()\n    cur.close()\n    conn.close()\n    data = [{'item': row[0], 'quantity': row[1], 'status': row[2]} for row in rows]\n    return jsonify(data)\n\nif _name_ == '_main_':\n    app.run(debug=True)",
      "metadata": {
        "trusted": true
      },
      "outputs": [
        {
          "ename": "<class 'ModuleNotFoundError'>",
          "evalue": "No module named 'flask'",
          "traceback": [
            "\u001b[0;31m---------------------------------------------------------------------------\u001b[0m",
            "\u001b[0;31mModuleNotFoundError\u001b[0m                       Traceback (most recent call last)",
            "Cell \u001b[0;32mIn[1], line 1\u001b[0m\n\u001b[0;32m----> 1\u001b[0m \u001b[38;5;28;01mfrom\u001b[39;00m \u001b[38;5;21;01mflask\u001b[39;00m \u001b[38;5;28;01mimport\u001b[39;00m Flask, render_template, jsonify\n\u001b[1;32m      2\u001b[0m \u001b[38;5;28;01mfrom\u001b[39;00m \u001b[38;5;21;01mflask_cors\u001b[39;00m \u001b[38;5;28;01mimport\u001b[39;00m CORS\n\u001b[1;32m      3\u001b[0m \u001b[38;5;28;01mimport\u001b[39;00m \u001b[38;5;21;01mpsycopg2\u001b[39;00m\n",
            "\u001b[0;31mModuleNotFoundError\u001b[0m: No module named 'flask'"
          ],
          "output_type": "error"
        }
      ],
      "execution_count": 1
    },
    {
      "id": "d6cfb841-8dfe-41d7-82bf-5bc72943cd8e",
      "cell_type": "code",
      "source": "",
      "metadata": {
        "trusted": true
      },
      "outputs": [],
      "execution_count": null
    }
  ]
}