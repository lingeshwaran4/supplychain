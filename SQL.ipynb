{
  "metadata": {
    "kernelspec": {
      "name": "SQLite",
      "display_name": "SQLite",
      "language": "sql"
    },
    "language_info": {
      "codemirror_mode": "sql",
      "file_extension": "",
      "mimetype": "",
      "name": "sql",
      "version": "3.32.3"
    }
  },
  "nbformat_minor": 5,
  "nbformat": 4,
  "cells": [
    {
      "id": "b25aa716-151e-4a0c-b53f-5e428e246bd8",
      "cell_type": "code",
      "source": "CREATE TABLE inventory (\n    id SERIAL PRIMARY KEY,\n    item_name VARCHAR(100),\n    quantity INTEGER,\n    status VARCHAR(50)\n);\n\nINSERT INTO inventory (item_name, quantity, status) VALUES\n('Laptop', 50, 'In Stock'),\n('Mouse', 150, 'Low Stock'),\n('Keyboard', 0, 'Out of Stock');",
      "metadata": {
        "trusted": true
      },
      "outputs": [
        {
          "ename": "Error",
          "evalue": "Please load a database to perform operations",
          "traceback": [
            "Error: Please load a database to perform operations"
          ],
          "output_type": "error"
        }
      ],
      "execution_count": 1
    },
    {
      "id": "c4d6a8b2-e24c-4a6b-b0bf-3594c54ef269",
      "cell_type": "code",
      "source": "",
      "metadata": {
        "trusted": true
      },
      "outputs": [],
      "execution_count": null
    }
  ]
}